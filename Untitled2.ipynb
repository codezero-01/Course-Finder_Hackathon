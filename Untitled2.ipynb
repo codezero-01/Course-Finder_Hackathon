{
 "cells": [
  {
   "cell_type": "code",
   "execution_count": 2,
   "metadata": {},
   "outputs": [
    {
     "name": "stdout",
     "output_type": "stream",
     "text": [
      "             subject_name                                        course_name  \\\n",
      "0  Learn Computer Science                                   Machine Learning   \n",
      "1  Learn Computer Science  Introduction to Computer Science and Programmi...   \n",
      "2  Learn Computer Science         Machine Learning for Musicians and Artists   \n",
      "3  Learn Computer Science            CS50's Introduction to Computer Science   \n",
      "4  Learn Computer Science                          Intro to Computer Science   \n",
      "\n",
      "                                 absolute_course_url  \n",
      "0  https://www.class-central.com/course/coursera-...  \n",
      "1  https://www.class-central.com/course/edx-intro...  \n",
      "2  https://www.class-central.com/course/kadenze-m...  \n",
      "3  https://www.class-central.com/course/edx-cs50-...  \n",
      "4  https://www.class-central.com/course/udacity-i...  \n"
     ]
    }
   ],
   "source": [
    "import pandas as pd\n",
    "df = pd.read_csv('data_vijay.csv');\n",
    "print(df.head())"
   ]
  },
  {
   "cell_type": "code",
   "execution_count": 11,
   "metadata": {},
   "outputs": [
    {
     "name": "stderr",
     "output_type": "stream",
     "text": [
      "C:\\ProgramData\\Anaconda3\\lib\\site-packages\\ipykernel_launcher.py:4: SettingWithCopyWarning: \n",
      "A value is trying to be set on a copy of a slice from a DataFrame\n",
      "\n",
      "See the caveats in the documentation: http://pandas.pydata.org/pandas-docs/stable/indexing.html#indexing-view-versus-copy\n",
      "  after removing the cwd from sys.path.\n"
     ]
    }
   ],
   "source": [
    "import random\n",
    "ratings = [1,2,3,4,5]\n",
    "for i in range(len(df)):\n",
    "    df['rating'][i] = random.choice(ratings)"
   ]
  },
  {
   "cell_type": "code",
   "execution_count": 12,
   "metadata": {},
   "outputs": [
    {
     "name": "stdout",
     "output_type": "stream",
     "text": [
      "             subject_name                                        course_name  \\\n",
      "0  Learn Computer Science                                   Machine Learning   \n",
      "1  Learn Computer Science  Introduction to Computer Science and Programmi...   \n",
      "2  Learn Computer Science         Machine Learning for Musicians and Artists   \n",
      "3  Learn Computer Science            CS50's Introduction to Computer Science   \n",
      "4  Learn Computer Science                          Intro to Computer Science   \n",
      "\n",
      "                                 absolute_course_url  rating  \n",
      "0  https://www.class-central.com/course/coursera-...       4  \n",
      "1  https://www.class-central.com/course/edx-intro...       4  \n",
      "2  https://www.class-central.com/course/kadenze-m...       2  \n",
      "3  https://www.class-central.com/course/edx-cs50-...       4  \n",
      "4  https://www.class-central.com/course/udacity-i...       3  \n"
     ]
    }
   ],
   "source": [
    "print(df.head())"
   ]
  },
  {
   "cell_type": "code",
   "execution_count": 17,
   "metadata": {},
   "outputs": [
    {
     "name": "stderr",
     "output_type": "stream",
     "text": [
      "C:\\ProgramData\\Anaconda3\\lib\\site-packages\\ipykernel_launcher.py:4: SettingWithCopyWarning: \n",
      "A value is trying to be set on a copy of a slice from a DataFrame\n",
      "\n",
      "See the caveats in the documentation: http://pandas.pydata.org/pandas-docs/stable/indexing.html#indexing-view-versus-copy\n",
      "  after removing the cwd from sys.path.\n"
     ]
    }
   ],
   "source": [
    "ratings = [1,0]\n",
    "df['comment'] = 0\n",
    "for i in range(len(df)):\n",
    "    df['comment'][i] = random.choice(ratings)"
   ]
  },
  {
   "cell_type": "code",
   "execution_count": 18,
   "metadata": {},
   "outputs": [
    {
     "name": "stdout",
     "output_type": "stream",
     "text": [
      "             subject_name                                        course_name  \\\n",
      "0  Learn Computer Science                                   Machine Learning   \n",
      "1  Learn Computer Science  Introduction to Computer Science and Programmi...   \n",
      "2  Learn Computer Science         Machine Learning for Musicians and Artists   \n",
      "3  Learn Computer Science            CS50's Introduction to Computer Science   \n",
      "4  Learn Computer Science                          Intro to Computer Science   \n",
      "\n",
      "                                 absolute_course_url  rating  comment  \n",
      "0  https://www.class-central.com/course/coursera-...       4        0  \n",
      "1  https://www.class-central.com/course/edx-intro...       4        1  \n",
      "2  https://www.class-central.com/course/kadenze-m...       2        0  \n",
      "3  https://www.class-central.com/course/edx-cs50-...       4        0  \n",
      "4  https://www.class-central.com/course/udacity-i...       3        0  \n"
     ]
    }
   ],
   "source": [
    "print(df.head())"
   ]
  },
  {
   "cell_type": "code",
   "execution_count": 26,
   "metadata": {},
   "outputs": [],
   "source": [
    "def func(rating, comment):\n",
    "    return 0.7 * (rating) + 0.3 * (comment)"
   ]
  },
  {
   "cell_type": "code",
   "execution_count": 27,
   "metadata": {},
   "outputs": [
    {
     "name": "stderr",
     "output_type": "stream",
     "text": [
      "C:\\ProgramData\\Anaconda3\\lib\\site-packages\\ipykernel_launcher.py:5: SettingWithCopyWarning: \n",
      "A value is trying to be set on a copy of a slice from a DataFrame\n",
      "\n",
      "See the caveats in the documentation: http://pandas.pydata.org/pandas-docs/stable/indexing.html#indexing-view-versus-copy\n",
      "  \"\"\"\n"
     ]
    }
   ],
   "source": [
    "df['balanced_rating'] = 0.1\n",
    "for i in range(len(df)):\n",
    "    rating = float(df['rating'][i])\n",
    "    comment = float(df['comment'][i])\n",
    "    df['balanced_rating'][i] = func(rating, comment)"
   ]
  },
  {
   "cell_type": "code",
   "execution_count": 28,
   "metadata": {
    "scrolled": true
   },
   "outputs": [
    {
     "name": "stdout",
     "output_type": "stream",
     "text": [
      "             subject_name                                        course_name  \\\n",
      "0  Learn Computer Science                                   Machine Learning   \n",
      "1  Learn Computer Science  Introduction to Computer Science and Programmi...   \n",
      "2  Learn Computer Science         Machine Learning for Musicians and Artists   \n",
      "3  Learn Computer Science            CS50's Introduction to Computer Science   \n",
      "4  Learn Computer Science                          Intro to Computer Science   \n",
      "\n",
      "                                 absolute_course_url  rating  comment  \\\n",
      "0  https://www.class-central.com/course/coursera-...       4        0   \n",
      "1  https://www.class-central.com/course/edx-intro...       4        1   \n",
      "2  https://www.class-central.com/course/kadenze-m...       2        0   \n",
      "3  https://www.class-central.com/course/edx-cs50-...       4        0   \n",
      "4  https://www.class-central.com/course/udacity-i...       3        0   \n",
      "\n",
      "   balanced_rating  \n",
      "0              2.8  \n",
      "1              3.1  \n",
      "2              1.4  \n",
      "3              2.8  \n",
      "4              2.1  \n"
     ]
    }
   ],
   "source": [
    "print(df.head())"
   ]
  },
  {
   "cell_type": "code",
   "execution_count": 29,
   "metadata": {},
   "outputs": [],
   "source": [
    "df.to_csv('ready.csv')"
   ]
  },
  {
   "cell_type": "code",
   "execution_count": null,
   "metadata": {},
   "outputs": [],
   "source": []
  }
 ],
 "metadata": {
  "kernelspec": {
   "display_name": "Python 3",
   "language": "python",
   "name": "python3"
  },
  "language_info": {
   "codemirror_mode": {
    "name": "ipython",
    "version": 3
   },
   "file_extension": ".py",
   "mimetype": "text/x-python",
   "name": "python",
   "nbconvert_exporter": "python",
   "pygments_lexer": "ipython3",
   "version": "3.7.1"
  }
 },
 "nbformat": 4,
 "nbformat_minor": 2
}
